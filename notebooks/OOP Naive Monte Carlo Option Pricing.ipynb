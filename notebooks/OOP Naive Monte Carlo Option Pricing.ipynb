{
 "cells": [
  {
   "cell_type": "markdown",
   "metadata": {},
   "source": [
    "## An Introduction Naive Monte Carlo Option Pricing\n",
    "\n",
    "Similar to the binomial approach, the Monte Carlo method of pricing options relies on modeling the underlying asset price dynamics under the risk neutral density. \n",
    "\n",
    "The assumption under the Black-Scholes model, which is equivalent to the binomial with infinitely many nodes on the tree is that the underlying asset follows a stochastic differential equation called geometric Brownian Motion:\n",
    "\n",
    "$$\n",
    "\\frac{ds}{S} = (\\mu - \\delta) dt + \\sigma \\sqrt{dt} dz\n",
    "$$\n",
    "\n",
    "Which can also be written as:\n",
    "\n",
    "\n",
    "$$\n",
    "ds = (\\mu - \\delta) Sdt + \\sigma S\\sqrt{dt} dz\n",
    "$$\n",
    "\n",
    "\n",
    "Before we saw a simplified version of this process in discrete time as the random walk with drift:\n",
    "\n",
    "$$\n",
    "m_{t} = \\mu + m_{t-1} + \\varepsilon_{t}\n",
    "$$\n",
    "\n",
    "Using Ito's Lemma (to be explained later), we can see that we can re-express the asset price dynamics in logarithms as follows:\n",
    "\n",
    "$$\n",
    "d \\ln{S_{t}} = \\left(\\mu - \\frac{1}{2} \\sigma^{2} \\right) dt + \\sigma dz_{t}\n",
    "$$\n",
    "\n",
    "This process in logs is called Arithmetic Brownian Motion.\n",
    "\n",
    "We will see that this has an exact discrete-time solution that we can use to simulate asset prices:\n",
    "\n",
    "$$\n",
    "S_{t} = S_{0} \\exp{ \\left( \\nu dt + \\sigma \\sqrt{dt} \\varepsilon \\right)}\n",
    "$$\n",
    "\n",
    "where $\\nu = \\left(\\mu - \\frac{1}{2} \\sigma^{2} \\right)$, which is called the drift, where $\\varepsilon \\sim N(0, 1)$"
   ]
  },
  {
   "cell_type": "code",
   "execution_count": 1,
   "metadata": {
    "collapsed": true
   },
   "outputs": [],
   "source": [
    "import numpy as np\n"
   ]
  },
  {
   "cell_type": "code",
   "execution_count": 5,
   "metadata": {
    "collapsed": true
   },
   "outputs": [],
   "source": [
    "z = np.random.normal?"
   ]
  },
  {
   "cell_type": "code",
   "execution_count": null,
   "metadata": {
    "collapsed": true
   },
   "outputs": [],
   "source": [
    "z = np.random.normal"
   ]
  },
  {
   "cell_type": "code",
   "execution_count": 8,
   "metadata": {
    "collapsed": false
   },
   "outputs": [
    {
     "data": {
      "text/plain": [
       "array([-0.85756824,  2.15822857,  0.21478796, ..., -0.04577632,\n",
       "       -0.46965544,  0.79938888])"
      ]
     },
     "execution_count": 8,
     "metadata": {},
     "output_type": "execute_result"
    }
   ],
   "source": [
    "z = np.random.normal(size = 10000)\n",
    "z"
   ]
  },
  {
   "cell_type": "code",
   "execution_count": 9,
   "metadata": {
    "collapsed": false
   },
   "outputs": [
    {
     "data": {
      "text/plain": [
       "0.013209716243087609"
      ]
     },
     "execution_count": 9,
     "metadata": {},
     "output_type": "execute_result"
    }
   ],
   "source": [
    "z.mean()"
   ]
  },
  {
   "cell_type": "code",
   "execution_count": 10,
   "metadata": {
    "collapsed": false
   },
   "outputs": [
    {
     "data": {
      "text/plain": [
       "1.0070378247893383"
      ]
     },
     "execution_count": 10,
     "metadata": {},
     "output_type": "execute_result"
    }
   ],
   "source": [
    "z.std()"
   ]
  },
  {
   "cell_type": "code",
   "execution_count": 11,
   "metadata": {
    "collapsed": true
   },
   "outputs": [],
   "source": [
    "y = 10 * z"
   ]
  },
  {
   "cell_type": "code",
   "execution_count": 12,
   "metadata": {
    "collapsed": false
   },
   "outputs": [
    {
     "data": {
      "text/plain": [
       "10.070378247893384"
      ]
     },
     "execution_count": 12,
     "metadata": {},
     "output_type": "execute_result"
    }
   ],
   "source": [
    "y.std()"
   ]
  },
  {
   "cell_type": "markdown",
   "metadata": {},
   "source": [
    "Let's see how we can use this model to simulate asset prices. Assume the following:\n",
    "\n",
    "* $S_{0} = 41.0$ \n",
    "* $\\mu = 0.12$ \n",
    "* $\\delta = 0.0$\n",
    "* $\\sigma = 0.30$\n",
    "* $T = 1$ year\n",
    "* $n = 1$\n",
    "* $dt = T / n$\n",
    "\n",
    "\n",
    "Now we can to simulate. To get the first draw of the price path, we can do the following:\n",
    "\n",
    "$$\n",
    "S_{1} = 41.0 \\times \\exp{ \\left(0.12 - 0.5 \\times 0.3^{2} \\right) \\times 1 + 0.30 \\sqrt{1} \\times Z_{1}}\n",
    "$$\n",
    "\n",
    "Let's do this in Python as follows under the so-called physical density:"
   ]
  },
  {
   "cell_type": "code",
   "execution_count": 17,
   "metadata": {
    "collapsed": true
   },
   "outputs": [],
   "source": [
    "S0 = 41.0\n",
    "mu = 0.12\n",
    "sigma = 0.3\n",
    "dt = 1.0\n",
    "Z = np.random.normal(size=10000)\n",
    "\n",
    "S = S0 * np.exp((mu - 0.5 * sigma * sigma) * dt + sigma * np.sqrt(dt) * Z)"
   ]
  },
  {
   "cell_type": "code",
   "execution_count": 18,
   "metadata": {
    "collapsed": false
   },
   "outputs": [
    {
     "data": {
      "text/plain": [
       "array([ 46.49924258,  30.58519193,  32.92162731, ...,  45.95205935,\n",
       "        39.28746642,  50.97735464])"
      ]
     },
     "execution_count": 18,
     "metadata": {},
     "output_type": "execute_result"
    }
   ],
   "source": [
    "S"
   ]
  },
  {
   "cell_type": "code",
   "execution_count": 21,
   "metadata": {
    "collapsed": true
   },
   "outputs": [],
   "source": [
    "class VanillaOption(object):\n",
    "    \"\"\"An abstract interface for plain vanilla options.\"\"\"\n",
    "    \n",
    "    def __init__(self, strike, expiry):\n",
    "        self.strike = strike\n",
    "        self.expiry = expiry\n",
    "        \n",
    "    def payoff(self, spot):\n",
    "        return \"To be overridden in inheriting classes.\""
   ]
  },
  {
   "cell_type": "code",
   "execution_count": 22,
   "metadata": {
    "collapsed": true
   },
   "outputs": [],
   "source": [
    "class CallOption(VanillaOption):\n",
    "    \"\"\"A concrete class for vanilla call options.\"\"\"\n",
    "    \n",
    "    def payoff(self, spot):\n",
    "        return np.maximum(spot - self.strike, 0.0)\n",
    "    \n",
    "    \n",
    "class PutOption(VanillaOption):\n",
    "    \"\"\"A concrete class for vanilla put options.\"\"\"\n",
    "    \n",
    "    def payoff(self, spot):\n",
    "        return np.maximum(self.strike - spot, 0.0)"
   ]
  },
  {
   "cell_type": "code",
   "execution_count": 34,
   "metadata": {
    "collapsed": true
   },
   "outputs": [],
   "source": [
    "def NaiveMonteCarloPricer(option, spot, rate, vol, div, nsteps, nreps):\n",
    "    dt = option.expiry / nsteps\n",
    "    Z = np.random.normal(size=nreps)\n",
    "\n",
    "    S = S0 * np.exp((rate - 0.5 * vol * vol) * dt + vol * np.sqrt(dt) * Z)\n",
    "    C = option.payoff(S)\n",
    "    \n",
    "    prc = C.mean() * np.exp(-rate * option.expiry)\n",
    "    \n",
    "    return prc\n",
    "    "
   ]
  },
  {
   "cell_type": "code",
   "execution_count": 33,
   "metadata": {
    "collapsed": false
   },
   "outputs": [
    {
     "name": "stdout",
     "output_type": "stream",
     "text": [
      "The Call Price is: 6.96\n",
      "The Put Price is: 2.89\n"
     ]
    }
   ],
   "source": [
    "spot = 41.0\n",
    "strike = 40.0\n",
    "vol = 0.3\n",
    "rate = 0.08\n",
    "div = 0.0\n",
    "expiry = 1.0\n",
    "nsteps = 1\n",
    "nreps = 1000000\n",
    "\n",
    "theCall = CallOption(40.0, 1.0)\n",
    "thePut = PutOption(40.0, 1.0)\n",
    "\n",
    "callPrc = NaiveMonteCarloPricer(theCall, spot, rate, vol, div, nsteps, nreps)\n",
    "print(\"The Call Price is: {0:0.2f}\".format(callPrc))\n",
    "\n",
    "\n",
    "putPrc = NaiveMonteCarloPricer(thePut, spot, rate, vol, div, nsteps, nreps)\n",
    "print(\"The Put Price is: {0:0.2f}\".format(putPrc))"
   ]
  },
  {
   "cell_type": "code",
   "execution_count": null,
   "metadata": {
    "collapsed": true
   },
   "outputs": [],
   "source": []
  },
  {
   "cell_type": "code",
   "execution_count": null,
   "metadata": {
    "collapsed": true
   },
   "outputs": [],
   "source": []
  }
 ],
 "metadata": {
  "kernelspec": {
   "display_name": "Python [Root]",
   "language": "python",
   "name": "Python [Root]"
  },
  "language_info": {
   "codemirror_mode": {
    "name": "ipython",
    "version": 3
   },
   "file_extension": ".py",
   "mimetype": "text/x-python",
   "name": "python",
   "nbconvert_exporter": "python",
   "pygments_lexer": "ipython3",
   "version": "3.5.2"
  }
 },
 "nbformat": 4,
 "nbformat_minor": 0
}
