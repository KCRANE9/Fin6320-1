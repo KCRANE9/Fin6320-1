{
 "cells": [
  {
   "cell_type": "markdown",
   "metadata": {},
   "source": [
    "## Naive Monte Carlo Option Pricing\n",
    "\n",
    "The Monte Carlo option pricing algorithm:\n",
    "\n",
    "for $i = 1, 2, \\ldots, M$ \n",
    "\n",
    "1. Set $S_{0,i}$ = spot price\n",
    "\n",
    "2. Simulate from: $S_{T,i} = S_{0}\\exp{ \\left[ \\left(r - \\frac{1}{2} \\sigma^{2} \\right) + \\sigma \\sqrt{T} \\varepsilon \\right]}$\n",
    "\n",
    "3. Apply the option payoff (in this case for a Call): $C_{T,i} = \\max{(S_{T,i} - K, 0)}$\n",
    "\n",
    "Finally,\n",
    "\n",
    "4. $\\hat{C}_{0} = \\exp{-r \\times T} \\left[\\frac{1}{M} \\sum\\limits_{i=1}^{M} C_{T,i} \\right]$"
   ]
  },
  {
   "cell_type": "markdown",
   "metadata": {},
   "source": [
    "## In a Loop"
   ]
  },
  {
   "cell_type": "code",
   "execution_count": 20,
   "metadata": {
    "collapsed": false
   },
   "outputs": [
    {
     "name": "stdout",
     "output_type": "stream",
     "text": [
      "The Call Price is: 6.947\n"
     ]
    }
   ],
   "source": [
    "import numpy as np\n",
    "\n",
    "## set up the standard problem\n",
    "spot = 41.0\n",
    "strike = 40.0\n",
    "expiry = 1.0\n",
    "rate = 0.08\n",
    "sigma = 0.30\n",
    "M = 50000\n",
    "\n",
    "## The main simulation loop\n",
    "spotT = np.empty((M, ))\n",
    "callT = np.empty((M, ))\n",
    "\n",
    "for i in range(M):\n",
    "    z = np.random.normal(size=1)\n",
    "    spotT[i] = spot * np.exp((rate - 0.5 * sigma * sigma)* expiry + sigma * np.sqrt(expiry) * z)\n",
    "    callT[i] = np.maximum(spotT[i] - strike, 0.0)\n",
    "\n",
    "price = np.exp(-rate * expiry) * callT.mean()\n",
    "print(\"The Call Price is: {0:.3f}\".format(price))"
   ]
  },
  {
   "cell_type": "markdown",
   "metadata": {},
   "source": [
    "## Vectorized"
   ]
  },
  {
   "cell_type": "code",
   "execution_count": 14,
   "metadata": {
    "collapsed": false
   },
   "outputs": [
    {
     "name": "stdout",
     "output_type": "stream",
     "text": [
      "Variable   Type       Data/Info\n",
      "-------------------------------\n",
      "M          int        50000\n",
      "callT      ndarray    50000: 50000 elems, type `float64`, 400000 bytes (390.625 kb)\n",
      "expiry     float      1.0\n",
      "i          int        49999\n",
      "np         module     <module 'numpy' from 'C:\\<...>ges\\\\numpy\\\\__init__.py'>\n",
      "price      float64    6.93046380513\n",
      "rate       float      0.08\n",
      "sigma      float      0.3\n",
      "spot       float      41.0\n",
      "spotT      ndarray    50000: 50000 elems, type `float64`, 400000 bytes (390.625 kb)\n",
      "strike     float      40.0\n",
      "z          ndarray    50000: 50000 elems, type `float64`, 400000 bytes (390.625 kb)\n"
     ]
    }
   ],
   "source": [
    "z = np.random.normal(size=M)\n",
    "spotT = spot * np.exp((rate - 0.5 * sigma * sigma)* expiry + sigma * np.sqrt(expiry) * z)\n",
    "%whos"
   ]
  },
  {
   "cell_type": "code",
   "execution_count": 28,
   "metadata": {
    "collapsed": false
   },
   "outputs": [
    {
     "name": "stdout",
     "output_type": "stream",
     "text": [
      "The Call Price is: 6.965\n"
     ]
    }
   ],
   "source": [
    "M = 1000000\n",
    "z = np.random.normal(size=M)\n",
    "spotT = spot * np.exp((rate - 0.5 * sigma * sigma)* expiry + sigma * np.sqrt(expiry) * z)\n",
    "callT = np.maximum(spotT - strike, 0.0)\n",
    "price = np.exp(-rate * expiry) * callT.mean()\n",
    "print(\"The Call Price is: {0:.3f}\".format(price))"
   ]
  },
  {
   "cell_type": "markdown",
   "metadata": {},
   "source": [
    "## Only Slightly Less Naive (Antithetic Sampling)"
   ]
  },
  {
   "cell_type": "code",
   "execution_count": 34,
   "metadata": {
    "collapsed": false
   },
   "outputs": [
    {
     "name": "stdout",
     "output_type": "stream",
     "text": [
      "The Call Price is: 6.9642 for 2000000 draws\n"
     ]
    }
   ],
   "source": [
    "M = 1000000\n",
    "z = np.random.normal(size=M)\n",
    "z = np.concatenate((z,-z))\n",
    "spotT = spot * np.exp((rate - 0.5 * sigma * sigma)* expiry + sigma * np.sqrt(expiry) * z)\n",
    "callT = np.maximum(spotT - strike, 0.0)\n",
    "\n",
    "price = np.exp(-rate * expiry) * callT.mean()\n",
    "print(\"The Call Price is: {0:.4f} for {1} draws\".format(price, len(callT)))"
   ]
  },
  {
   "cell_type": "code",
   "execution_count": null,
   "metadata": {
    "collapsed": true
   },
   "outputs": [],
   "source": []
  },
  {
   "cell_type": "code",
   "execution_count": null,
   "metadata": {
    "collapsed": true
   },
   "outputs": [],
   "source": []
  }
 ],
 "metadata": {
  "anaconda-cloud": {},
  "kernelspec": {
   "display_name": "Python [Root]",
   "language": "python",
   "name": "Python [Root]"
  },
  "language_info": {
   "codemirror_mode": {
    "name": "ipython",
    "version": 3
   },
   "file_extension": ".py",
   "mimetype": "text/x-python",
   "name": "python",
   "nbconvert_exporter": "python",
   "pygments_lexer": "ipython3",
   "version": "3.5.2"
  }
 },
 "nbformat": 4,
 "nbformat_minor": 1
}
