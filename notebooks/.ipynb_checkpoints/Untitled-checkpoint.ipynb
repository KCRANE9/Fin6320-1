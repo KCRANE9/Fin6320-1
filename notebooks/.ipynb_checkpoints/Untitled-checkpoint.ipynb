{
 "cells": [
  {
   "cell_type": "markdown",
   "metadata": {},
   "source": [
    "## Simulating Stock Prices\n",
    "\n",
    "We can simulate stock prices as follows:\n",
    "\n",
    "$$\n",
    "S_{t+h} = S_{t} \\exp{[(r - \\delta -\\frac{1}{2} \\sigma^{2}) + \\sigma \\sqrt{T}  Z]}\n",
    "$$\n",
    "\n",
    "where $Z$ is drawn from a standard Normal distribution."
   ]
  },
  {
   "cell_type": "code",
   "execution_count": 1,
   "metadata": {
    "collapsed": true
   },
   "outputs": [],
   "source": [
    "import numpy as np"
   ]
  },
  {
   "cell_type": "code",
   "execution_count": 2,
   "metadata": {
    "collapsed": true
   },
   "outputs": [],
   "source": [
    "z = np.random.normal(size=10)"
   ]
  },
  {
   "cell_type": "code",
   "execution_count": 4,
   "metadata": {
    "collapsed": false
   },
   "outputs": [],
   "source": [
    "np.random.normal?"
   ]
  },
  {
   "cell_type": "markdown",
   "metadata": {},
   "source": [
    "Let's assume the following:\n",
    "\n",
    "- $r = 0.08$\n",
    "- $\\delta = 0.0$\n",
    "- $\\sigma = 0.30$\n",
    "- $S_{0} = \\$100.0$\n",
    "- $T = 1$ year"
   ]
  },
  {
   "cell_type": "code",
   "execution_count": 53,
   "metadata": {
    "collapsed": false
   },
   "outputs": [
    {
     "data": {
      "text/plain": [
       "array([ 50.21739516])"
      ]
     },
     "execution_count": 53,
     "metadata": {},
     "output_type": "execute_result"
    }
   ],
   "source": [
    "rate = 0.08\n",
    "div = 0.0\n",
    "sigma = 0.10\n",
    "spot = 41.0\n",
    "expiry = 1\n",
    "\n",
    "drift = rate - div - 0.5 * sigma * sigma\n",
    "vol = sigma * np.sqrt(expiry)\n",
    "z = np.random.normal(size=1)\n",
    "spotT = spot * np.exp(drift + vol * z )\n",
    "spotT"
   ]
  },
  {
   "cell_type": "code",
   "execution_count": 54,
   "metadata": {
    "collapsed": false
   },
   "outputs": [
    {
     "data": {
      "text/plain": [
       "array([  9.51721815e-312,   9.51752500e-312,  -2.28147925e+001, ...,\n",
       "         8.06189871e+001,  -3.04907782e+001,  -5.96493458e+000])"
      ]
     },
     "execution_count": 54,
     "metadata": {},
     "output_type": "execute_result"
    }
   ],
   "source": [
    "M = 100000\n",
    "spotT = np.empty((M,))\n",
    "spotT"
   ]
  },
  {
   "cell_type": "code",
   "execution_count": 55,
   "metadata": {
    "collapsed": false
   },
   "outputs": [
    {
     "data": {
      "text/plain": [
       "array([ 42.60109524,  44.82525539,  50.11688385, ...,  50.25970678,\n",
       "        44.54224066,  45.42862898])"
      ]
     },
     "execution_count": 55,
     "metadata": {},
     "output_type": "execute_result"
    }
   ],
   "source": [
    "for t in range(M):\n",
    "    z = np.random.normal(size=1)\n",
    "    spotT[t] = spot * np.exp(drift + vol * z )\n",
    "\n",
    "spotT"
   ]
  },
  {
   "cell_type": "markdown",
   "metadata": {},
   "source": [
    "## The Monte Carlo Option Pricing Algorithm\n",
    "\n",
    "1. Generate $M$ stock prices\n",
    "2. Apply an option payoff function to the terminal prices (e.g. for a call option this would be: $\\max{(S_{T} - K, 0.0)}$)\n",
    "3. Take the average option payoff\n",
    "4. Discount to the present to get $\\hat{C_{0}}$\n"
   ]
  },
  {
   "cell_type": "code",
   "execution_count": 56,
   "metadata": {
    "collapsed": true
   },
   "outputs": [],
   "source": [
    "strike = 40.0\n",
    "\n",
    "def callPayoff(spot, strike):\n",
    "    value = np.maximum(spot - strike, 0.0)\n",
    "    return value\n",
    "\n"
   ]
  },
  {
   "cell_type": "code",
   "execution_count": null,
   "metadata": {
    "collapsed": false
   },
   "outputs": [],
   "source": []
  },
  {
   "cell_type": "code",
   "execution_count": 57,
   "metadata": {
    "collapsed": true
   },
   "outputs": [],
   "source": [
    "payoffs = callPayoff(spotT, strike)"
   ]
  },
  {
   "cell_type": "code",
   "execution_count": 58,
   "metadata": {
    "collapsed": false
   },
   "outputs": [
    {
     "data": {
      "text/plain": [
       "array([  2.60109524,   4.82525539,  10.11688385, ...,  10.25970678,\n",
       "         4.54224066,   5.42862898])"
      ]
     },
     "execution_count": 58,
     "metadata": {},
     "output_type": "execute_result"
    }
   ],
   "source": [
    "payoffs"
   ]
  },
  {
   "cell_type": "markdown",
   "metadata": {},
   "source": [
    "Now we can estimate the option price as follows\n",
    "\n",
    "$$\n",
    "\\hat{C_{0}} = e^{(-r T)} \\frac{1}{M} \\sum\\limits_{i=1}^{M} C_{i,T}\n",
    "$$\n",
    "\n",
    "the `Python` code for this is as follows:"
   ]
  },
  {
   "cell_type": "code",
   "execution_count": 59,
   "metadata": {
    "collapsed": false
   },
   "outputs": [
    {
     "name": "stdout",
     "output_type": "stream",
     "text": [
      "The Monte Carlo Estimated Call Price is: $4.36\n"
     ]
    }
   ],
   "source": [
    "callPrc = np.exp(-rate * expiry) * payoffs.mean()\n",
    "print(\"The Monte Carlo Estimated Call Price is: ${0:.2f}\".format(callPrc))"
   ]
  },
  {
   "cell_type": "markdown",
   "metadata": {},
   "source": []
  },
  {
   "cell_type": "code",
   "execution_count": 71,
   "metadata": {
    "collapsed": false
   },
   "outputs": [
    {
     "data": {
      "text/plain": [
       "array([  9.51757353e-312,   9.51757279e-312,   0.00000000e+000, ...,\n",
       "         0.00000000e+000,   0.00000000e+000,   0.00000000e+000])"
      ]
     },
     "execution_count": 71,
     "metadata": {},
     "output_type": "execute_result"
    }
   ],
   "source": [
    "x = np.empty(1001)\n",
    "x"
   ]
  },
  {
   "cell_type": "code",
   "execution_count": null,
   "metadata": {
    "collapsed": true
   },
   "outputs": [],
   "source": []
  }
 ],
 "metadata": {
  "kernelspec": {
   "display_name": "Python [Root]",
   "language": "python",
   "name": "Python [Root]"
  },
  "language_info": {
   "codemirror_mode": {
    "name": "ipython",
    "version": 3
   },
   "file_extension": ".py",
   "mimetype": "text/x-python",
   "name": "python",
   "nbconvert_exporter": "python",
   "pygments_lexer": "ipython3",
   "version": "3.5.2"
  }
 },
 "nbformat": 4,
 "nbformat_minor": 0
}
