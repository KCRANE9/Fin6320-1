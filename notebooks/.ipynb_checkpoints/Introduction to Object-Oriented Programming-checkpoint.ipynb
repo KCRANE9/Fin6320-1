{
 "cells": [
  {
   "cell_type": "markdown",
   "metadata": {},
   "source": [
    "## Beginning Object-Oriented Programming in Python\n",
    "\n",
    "\n",
    "Let's start with a very simple example, a student class:"
   ]
  },
  {
   "cell_type": "code",
   "execution_count": 25,
   "metadata": {
    "collapsed": true
   },
   "outputs": [],
   "source": [
    "class Student(object):\n",
    "    \"\"\"A student in a university class. Students have the following properties:\n",
    "    \n",
    "    Attributes:\n",
    "        firstName: the student's first name\n",
    "        lastName:  the student's last name\n",
    "        anumber:   the student's unique identifier\n",
    "        grade:     the student's final grade\n",
    "    \"\"\"\n",
    "    \n",
    "    def __init__(self, firstName, lastName, anumber):\n",
    "        \"\"\"Return a Student object whose first name is *firstName*, whose last name is \n",
    "        *lastName*, and whose A-number is *anumber*.\"\"\"\n",
    "        self.firstName = firstName\n",
    "        self.lastName = lastName\n",
    "        self.anumber = anumber\n",
    "        self.grade = 0.0\n",
    "        \n",
    "    def set_final_grade(self, final_grade):\n",
    "        \"\"\"Set and return the student's final grade.\"\"\"\n",
    "        self.grade = final_grade\n",
    "    \n",
    "    \n",
    "    "
   ]
  },
  {
   "cell_type": "code",
   "execution_count": 12,
   "metadata": {
    "collapsed": false
   },
   "outputs": [],
   "source": [
    "firstName = \"Robert\"\n",
    "lastName = \"Zimmerman\"\n",
    "anumber = \"A0111111\"\n",
    "\n",
    "dylan = Student(firstName, lastName, anumber)"
   ]
  },
  {
   "cell_type": "code",
   "execution_count": 3,
   "metadata": {
    "collapsed": false
   },
   "outputs": [
    {
     "data": {
      "text/plain": [
       "<__main__.Student at 0x2e772cbf6a0>"
      ]
     },
     "execution_count": 3,
     "metadata": {},
     "output_type": "execute_result"
    }
   ],
   "source": [
    "dylan"
   ]
  },
  {
   "cell_type": "code",
   "execution_count": 4,
   "metadata": {
    "collapsed": false
   },
   "outputs": [
    {
     "name": "stdout",
     "output_type": "stream",
     "text": [
      "Variable    Type       Data/Info\n",
      "--------------------------------\n",
      "Student     type       <class '__main__.Student'>\n",
      "anumber     str        A0111111\n",
      "dylan       Student    <__main__.Student object at 0x000002E772CBF6A0>\n",
      "firstName   str        Robert\n",
      "lastName    str        Zimmerman\n"
     ]
    }
   ],
   "source": [
    "whos"
   ]
  },
  {
   "cell_type": "code",
   "execution_count": 5,
   "metadata": {
    "collapsed": false
   },
   "outputs": [
    {
     "data": {
      "text/plain": [
       "__main__.Student"
      ]
     },
     "execution_count": 5,
     "metadata": {},
     "output_type": "execute_result"
    }
   ],
   "source": [
    "type(dylan)"
   ]
  },
  {
   "cell_type": "code",
   "execution_count": 6,
   "metadata": {
    "collapsed": false
   },
   "outputs": [
    {
     "data": {
      "text/plain": [
       "'Robert'"
      ]
     },
     "execution_count": 6,
     "metadata": {},
     "output_type": "execute_result"
    }
   ],
   "source": [
    "dylan.firstName"
   ]
  },
  {
   "cell_type": "code",
   "execution_count": 7,
   "metadata": {
    "collapsed": false
   },
   "outputs": [
    {
     "data": {
      "text/plain": [
       "'Zimmerman'"
      ]
     },
     "execution_count": 7,
     "metadata": {},
     "output_type": "execute_result"
    }
   ],
   "source": [
    "dylan.lastName"
   ]
  },
  {
   "cell_type": "code",
   "execution_count": 8,
   "metadata": {
    "collapsed": false
   },
   "outputs": [
    {
     "data": {
      "text/plain": [
       "'A0111111'"
      ]
     },
     "execution_count": 8,
     "metadata": {},
     "output_type": "execute_result"
    }
   ],
   "source": [
    "dylan.anumber"
   ]
  },
  {
   "cell_type": "code",
   "execution_count": 13,
   "metadata": {
    "collapsed": true
   },
   "outputs": [],
   "source": [
    "dylan.set_final_grade(4.0)"
   ]
  },
  {
   "cell_type": "code",
   "execution_count": 14,
   "metadata": {
    "collapsed": false
   },
   "outputs": [
    {
     "data": {
      "text/plain": [
       "4.0"
      ]
     },
     "execution_count": 14,
     "metadata": {},
     "output_type": "execute_result"
    }
   ],
   "source": [
    "dylan.grade"
   ]
  },
  {
   "cell_type": "code",
   "execution_count": 15,
   "metadata": {
    "collapsed": true
   },
   "outputs": [],
   "source": [
    "dylan.set_final_grade(3.0)"
   ]
  },
  {
   "cell_type": "code",
   "execution_count": 16,
   "metadata": {
    "collapsed": false
   },
   "outputs": [
    {
     "data": {
      "text/plain": [
       "3.0"
      ]
     },
     "execution_count": 16,
     "metadata": {},
     "output_type": "execute_result"
    }
   ],
   "source": [
    "dylan.grade"
   ]
  },
  {
   "cell_type": "code",
   "execution_count": 17,
   "metadata": {
    "collapsed": true
   },
   "outputs": [],
   "source": [
    "sally = Student(\"Sally\", \"Mae\", \"A09998988\")\n",
    "sally.set_final_grade(2.4)"
   ]
  },
  {
   "cell_type": "code",
   "execution_count": 18,
   "metadata": {
    "collapsed": false
   },
   "outputs": [
    {
     "data": {
      "text/plain": [
       "'Sally'"
      ]
     },
     "execution_count": 18,
     "metadata": {},
     "output_type": "execute_result"
    }
   ],
   "source": [
    "sally.firstName"
   ]
  },
  {
   "cell_type": "code",
   "execution_count": 19,
   "metadata": {
    "collapsed": false
   },
   "outputs": [
    {
     "data": {
      "text/plain": [
       "'Mae'"
      ]
     },
     "execution_count": 19,
     "metadata": {},
     "output_type": "execute_result"
    }
   ],
   "source": [
    "sally.lastName"
   ]
  },
  {
   "cell_type": "code",
   "execution_count": 20,
   "metadata": {
    "collapsed": true
   },
   "outputs": [],
   "source": [
    "fin6320 = [dylan, sally]"
   ]
  },
  {
   "cell_type": "code",
   "execution_count": 21,
   "metadata": {
    "collapsed": false
   },
   "outputs": [
    {
     "data": {
      "text/plain": [
       "list"
      ]
     },
     "execution_count": 21,
     "metadata": {},
     "output_type": "execute_result"
    }
   ],
   "source": [
    "type(fin6320)"
   ]
  },
  {
   "cell_type": "code",
   "execution_count": 22,
   "metadata": {
    "collapsed": false
   },
   "outputs": [
    {
     "name": "stdout",
     "output_type": "stream",
     "text": [
      "Variable    Type       Data/Info\n",
      "--------------------------------\n",
      "Student     type       <class '__main__.Student'>\n",
      "anumber     str        A0111111\n",
      "dylan       Student    <__main__.Student object at 0x000002E772CF54E0>\n",
      "fin6320     list       n=2\n",
      "firstName   str        Robert\n",
      "lastName    str        Zimmerman\n",
      "sally       Student    <__main__.Student object at 0x000002E772CF5710>\n"
     ]
    }
   ],
   "source": [
    "whos"
   ]
  },
  {
   "cell_type": "code",
   "execution_count": 24,
   "metadata": {
    "collapsed": false
   },
   "outputs": [
    {
     "data": {
      "text/plain": [
       "__main__.Student"
      ]
     },
     "execution_count": 24,
     "metadata": {},
     "output_type": "execute_result"
    }
   ],
   "source": [
    "type(fin6320[1])"
   ]
  },
  {
   "cell_type": "code",
   "execution_count": 26,
   "metadata": {
    "collapsed": false
   },
   "outputs": [
    {
     "name": "stdout",
     "output_type": "stream",
     "text": [
      "Help on class Student in module __main__:\n",
      "\n",
      "class Student(builtins.object)\n",
      " |  A student in a university class. Students have the following properties:\n",
      " |  \n",
      " |  Attributes:\n",
      " |      firstName: the student's first name\n",
      " |      lastName:  the student's last name\n",
      " |      anumber:   the student's unique identifier\n",
      " |      grade:     the student's final grade\n",
      " |  \n",
      " |  Methods defined here:\n",
      " |  \n",
      " |  __init__(self, firstName, lastName, anumber)\n",
      " |      Return a Student object whose first name is *firstName*, whose last name is \n",
      " |      *lastName*, and whose A-number is *anumber*.\n",
      " |  \n",
      " |  set_final_grade(self, final_grade)\n",
      " |      Set and return the student's final grade.\n",
      " |  \n",
      " |  ----------------------------------------------------------------------\n",
      " |  Data descriptors defined here:\n",
      " |  \n",
      " |  __dict__\n",
      " |      dictionary for instance variables (if defined)\n",
      " |  \n",
      " |  __weakref__\n",
      " |      list of weak references to the object (if defined)\n",
      "\n"
     ]
    }
   ],
   "source": [
    "help(Student)"
   ]
  },
  {
   "cell_type": "markdown",
   "metadata": {},
   "source": [
    "## Object-Oriented Option Payoffs"
   ]
  },
  {
   "cell_type": "code",
   "execution_count": 72,
   "metadata": {
    "collapsed": true
   },
   "outputs": [],
   "source": [
    "import numpy as np\n",
    "from scipy.stats import binom"
   ]
  },
  {
   "cell_type": "code",
   "execution_count": 73,
   "metadata": {
    "collapsed": true
   },
   "outputs": [],
   "source": [
    "class CallOption(object):\n",
    "    \n",
    "    def __init__(self, strike, expiry):\n",
    "        self.strike = strike\n",
    "        self.expiry = expiry\n",
    "        self.price = 0.0\n",
    "        \n",
    "    def payoff(self, spot):\n",
    "        return np.maximum(spot - self.strike, 0.0)\n",
    "    \n",
    "    def show(self):\n",
    "        value = \"The Call Option:\\n\\tExpiry: {0}\\n\\tStrike: {1}\".format(self.expiry, self.strike)\n",
    "        print(value)"
   ]
  },
  {
   "cell_type": "code",
   "execution_count": 74,
   "metadata": {
    "collapsed": true
   },
   "outputs": [],
   "source": [
    "theCall = CallOption(40.0, 1.0)"
   ]
  },
  {
   "cell_type": "code",
   "execution_count": 75,
   "metadata": {
    "collapsed": false
   },
   "outputs": [
    {
     "data": {
      "text/plain": [
       "1.0"
      ]
     },
     "execution_count": 75,
     "metadata": {},
     "output_type": "execute_result"
    }
   ],
   "source": [
    "theCall.expiry"
   ]
  },
  {
   "cell_type": "code",
   "execution_count": 76,
   "metadata": {
    "collapsed": false
   },
   "outputs": [
    {
     "data": {
      "text/plain": [
       "40.0"
      ]
     },
     "execution_count": 76,
     "metadata": {},
     "output_type": "execute_result"
    }
   ],
   "source": [
    "theCall.strike"
   ]
  },
  {
   "cell_type": "code",
   "execution_count": 77,
   "metadata": {
    "collapsed": true
   },
   "outputs": [],
   "source": [
    "call2 = CallOption(39.0, 1.0)"
   ]
  },
  {
   "cell_type": "code",
   "execution_count": 78,
   "metadata": {
    "collapsed": false
   },
   "outputs": [
    {
     "data": {
      "text/plain": [
       "39.0"
      ]
     },
     "execution_count": 78,
     "metadata": {},
     "output_type": "execute_result"
    }
   ],
   "source": [
    "call2.strike"
   ]
  },
  {
   "cell_type": "code",
   "execution_count": 79,
   "metadata": {
    "collapsed": true
   },
   "outputs": [],
   "source": [
    "class PutOption(object):\n",
    "    \n",
    "    def __init__(self, strike, expiry):\n",
    "        self.strike = strike\n",
    "        self.expiry = expiry\n",
    "        self.price = 0.0\n",
    "        \n",
    "    def payoff(self, spot):\n",
    "        return np.maximum(self.strike - spot, 0.0)"
   ]
  },
  {
   "cell_type": "code",
   "execution_count": 80,
   "metadata": {
    "collapsed": false
   },
   "outputs": [
    {
     "name": "stdout",
     "output_type": "stream",
     "text": [
      "Variable                 Type          Data/Info\n",
      "------------------------------------------------\n",
      "CallOption               type          <class '__main__.CallOption'>\n",
      "EuropeanBinomialPricer   function      <function EuropeanBinomia<...>er at 0x000002E772162510>\n",
      "PutOption                type          <class '__main__.PutOption'>\n",
      "Student                  type          <class '__main__.Student'>\n",
      "anumber                  str           A0111111\n",
      "binom                    binom_gen     <scipy.stats._discrete_di<...>ct at 0x000002E774920DA0>\n",
      "call2                    CallOption    <__main__.CallOption obje<...>ct at 0x000002E774A19208>\n",
      "div                      float         0.0\n",
      "dylan                    Student       <__main__.Student object at 0x000002E772CF54E0>\n",
      "expiry                   float         1.0\n",
      "fin6320                  list          n=2\n",
      "firstName                str           Robert\n",
      "lastName                 str           Zimmerman\n",
      "np                       module        <module 'numpy' from 'C:\\<...>ges\\\\numpy\\\\__init__.py'>\n",
      "rate                     float         0.08\n",
      "sally                    Student       <__main__.Student object at 0x000002E772CF5710>\n",
      "spot                     float         41.0\n",
      "steps                    int           2\n",
      "strike                   float         40.0\n",
      "theCall                  CallOption    <__main__.CallOption obje<...>ct at 0x000002E774A19080>\n",
      "thePut                   PutOption     <__main__.PutOption object at 0x000002E773120470>\n",
      "vol                      float         0.3\n"
     ]
    }
   ],
   "source": [
    "whos"
   ]
  },
  {
   "cell_type": "code",
   "execution_count": 92,
   "metadata": {
    "collapsed": true
   },
   "outputs": [],
   "source": [
    "def EuropeanBinomialPricer(option, spot, rate, vol, div, steps):\n",
    "    h = option.expiry / steps\n",
    "    nodes = steps + 1\n",
    "    u = np.exp((rate - div) * h + vol * np.sqrt(h))\n",
    "    d = np.exp((rate - div) * h - vol * np.sqrt(h))\n",
    "    pstar = (np.exp((rate - div) * h) - d) / (u - d)\n",
    "    disc = np.exp(-(rate - div))\n",
    "    callT = 0.0\n",
    "    \n",
    "    for i in range(nodes):\n",
    "        spotT = spot * (u ** (steps - i)) * (d ** i)\n",
    "        callT += option.payoff(spotT) * binom.pmf(steps - i, steps, pstar)\n",
    "        \n",
    "    callPrc = callT * disc\n",
    "    return callPrc"
   ]
  },
  {
   "cell_type": "code",
   "execution_count": 93,
   "metadata": {
    "collapsed": true
   },
   "outputs": [],
   "source": [
    "spot = 41.0\n",
    "strike = 40.0\n",
    "vol = 0.3\n",
    "rate = 0.08\n",
    "div = 0.0\n",
    "expiry = 1.0\n",
    "steps = 2\n",
    "\n",
    "theCall = CallOption(strike, expiry)\n",
    "thePut = PutOption(strike, expiry)"
   ]
  },
  {
   "cell_type": "code",
   "execution_count": 83,
   "metadata": {
    "collapsed": false
   },
   "outputs": [
    {
     "name": "stdout",
     "output_type": "stream",
     "text": [
      "The Call Option:\n",
      "\tExpiry: 1.0\n",
      "\tStrike: 40.0\n"
     ]
    }
   ],
   "source": [
    "print(\"The Call Option:\\n\\tExpiry: {0}\\n\\tStrike: {1}\".format(theCall.expiry, theCall.strike))"
   ]
  },
  {
   "cell_type": "code",
   "execution_count": 84,
   "metadata": {
    "collapsed": false
   },
   "outputs": [
    {
     "name": "stdout",
     "output_type": "stream",
     "text": [
      "The Put Option:\n",
      "\tExpiry: 1.0\n",
      "\tStrike: 40.0\n"
     ]
    }
   ],
   "source": [
    "print(\"The Put Option:\\n\\tExpiry: {0}\\n\\tStrike: {1}\".format(thePut.expiry, thePut.strike))"
   ]
  },
  {
   "cell_type": "code",
   "execution_count": null,
   "metadata": {
    "collapsed": true
   },
   "outputs": [],
   "source": []
  },
  {
   "cell_type": "code",
   "execution_count": 85,
   "metadata": {
    "collapsed": false
   },
   "outputs": [
    {
     "name": "stdout",
     "output_type": "stream",
     "text": [
      "The Call Option:\n",
      "\tExpiry: 1.0\n",
      "\tStrike: 40.0\n"
     ]
    }
   ],
   "source": [
    "theCall.show()"
   ]
  },
  {
   "cell_type": "code",
   "execution_count": 94,
   "metadata": {
    "collapsed": false
   },
   "outputs": [],
   "source": [
    "callPrc = EuropeanBinomialPricer(theCall, spot, rate, vol, div, steps)"
   ]
  },
  {
   "cell_type": "code",
   "execution_count": 95,
   "metadata": {
    "collapsed": false
   },
   "outputs": [
    {
     "data": {
      "text/plain": [
       "7.1622842046007422"
      ]
     },
     "execution_count": 95,
     "metadata": {},
     "output_type": "execute_result"
    }
   ],
   "source": [
    "callPrc"
   ]
  },
  {
   "cell_type": "code",
   "execution_count": 96,
   "metadata": {
    "collapsed": true
   },
   "outputs": [],
   "source": [
    "putPrc = EuropeanBinomialPricer(thePut, spot, rate, vol, div, steps)"
   ]
  },
  {
   "cell_type": "code",
   "execution_count": 97,
   "metadata": {
    "collapsed": false
   },
   "outputs": [
    {
     "data": {
      "text/plain": [
       "3.0869380600661742"
      ]
     },
     "execution_count": 97,
     "metadata": {},
     "output_type": "execute_result"
    }
   ],
   "source": [
    "putPrc"
   ]
  },
  {
   "cell_type": "code",
   "execution_count": null,
   "metadata": {
    "collapsed": true
   },
   "outputs": [],
   "source": []
  }
 ],
 "metadata": {
  "kernelspec": {
   "display_name": "Python [Root]",
   "language": "python",
   "name": "Python [Root]"
  },
  "language_info": {
   "codemirror_mode": {
    "name": "ipython",
    "version": 3
   },
   "file_extension": ".py",
   "mimetype": "text/x-python",
   "name": "python",
   "nbconvert_exporter": "python",
   "pygments_lexer": "ipython3",
   "version": "3.5.2"
  }
 },
 "nbformat": 4,
 "nbformat_minor": 0
}
