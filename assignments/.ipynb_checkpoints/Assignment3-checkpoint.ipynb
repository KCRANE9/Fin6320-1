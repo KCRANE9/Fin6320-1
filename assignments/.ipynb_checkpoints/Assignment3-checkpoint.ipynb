{
 "cells": [
  {
   "cell_type": "markdown",
   "metadata": {},
   "source": [
    "**Finance 6320: Computational Finance** <br>\n",
    "**Assignment #3** <br>\n",
    "**Due: TBD** <br>\n",
    "\n"
   ]
  },
  {
   "cell_type": "markdown",
   "metadata": {},
   "source": [
    "## Imports"
   ]
  },
  {
   "cell_type": "code",
   "execution_count": 1,
   "metadata": {
    "collapsed": true
   },
   "outputs": [],
   "source": [
    "import numpy as np\n",
    "from scipy.stats import binom"
   ]
  },
  {
   "cell_type": "markdown",
   "metadata": {},
   "source": [
    "**Problem 1.** \n",
    "\n",
    "In this problem you will use the classes that we have developed to price European puts and calls with the multiperiod Binomial Option Pricing Model (BOPM). This problem is more or less done for you in our lectures.\n",
    "\n",
    "Demonstrate that this code works by replicating the pricing of the European put option in Figure 10.6 of the McDonald book on page 310. You should get a price of $\\$2.999$ for the put option.\n",
    "\n",
    "Also, price the corresponding call option to demonstrate the algorithm, implemented once, is polymorphic and is capable of pricing call options as well."
   ]
  },
  {
   "cell_type": "code",
   "execution_count": 21,
   "metadata": {
    "collapsed": true
   },
   "outputs": [],
   "source": [
    "class VanillaOption(object):\n",
    "    \"\"\"An abstract interface for plain vanilla options.\"\"\"\n",
    "    \n",
    "    def __init__(self, strike, expiry):\n",
    "        self.strike = strike\n",
    "        self.expiry = expiry\n",
    "        \n",
    "    def payoff(self, spot):\n",
    "        return \"To be overridden in inheriting classes.\"\n",
    "    \n",
    "class CallOption(VanillaOption):\n",
    "    \"\"\"A concrete class for vanilla call options.\"\"\"\n",
    "    \n",
    "    def payoff(self, spot):\n",
    "        return np.maximum(spot - self.strike, 0.0)\n",
    "    \n",
    "    \n",
    "class PutOption(VanillaOption):\n",
    "    \"\"\"A concrete class for vanilla put options.\"\"\"\n",
    "    \n",
    "    def payoff(self, spot):\n",
    "        return np.maximum(self.strike - spot, 0.0)"
   ]
  },
  {
   "cell_type": "code",
   "execution_count": null,
   "metadata": {
    "collapsed": true
   },
   "outputs": [],
   "source": [
    "def EuropeanBinomialPricer(option, spot, rate, vol, div, steps):\n",
    "    ## insert your code here\n",
    "    \n",
    "    return price"
   ]
  },
  {
   "cell_type": "markdown",
   "metadata": {},
   "source": [
    "**Problem 2.**\n",
    "\n",
    "In this problem, building off of the code above, you will implement the American Binomial Option Pricing Model (ABOPM). Reprice both of the options above as American options. Outline the differences between the European and American solutions."
   ]
  },
  {
   "cell_type": "code",
   "execution_count": 22,
   "metadata": {
    "collapsed": false
   },
   "outputs": [],
   "source": [
    "def AmericanBinomialPricer(option, spot, rate, vol, div, steps):\n",
    "    ## insert your code here\n",
    "    \n",
    "    return price"
   ]
  },
  {
   "cell_type": "markdown",
   "metadata": {},
   "source": [
    "**Problem 3.**\n",
    "\n",
    "In this proble, again utilizing the code written above, you will implement the Naive Monte Carlo Option Pricing Model for European puts and calls. Reprice both options above.\n",
    "\n",
    "Recall, that if we can simulate prices under the risk-neutral density, then we can statistically estimate the option price as follows:\n",
    "\n",
    "$$\n",
    "\\hat{C_{0}} = \\frac{1}{M} \\sum\\limits_{j=1}^{M} C_{T,j}\n",
    "$$\n",
    "\n",
    "where $C_{T,j}$ is the option payoff at $t=T$ for the $j^{th}$ simulated spot price. This applies to both puts and calls, so again you can use polymorphism. \n",
    "\n",
    "Recall, that the first model that we will use to simulate prices in discrete time was called discrete-time Brownian motion, and can be implemented as follows:\n",
    "\n",
    "$$\n",
    "S_{t + h} = S_{t} \\exp{ \\left((r - \\delta - \\frac{1}{2} \\sigma^{2}) + \\sigma \\sqrt{h} Z \\right) }\n",
    "$$\n",
    "\n",
    "where $Z$ is a draw from a standard Normal distribution (i.e. $Z \\sim N(0,1)$). And in the simple Black-Scholes world we set $t + h = T$. \n",
    "\n",
    "This gives us the estimated mean option price. We can also calculate the estimated standard error as follows:\n",
    "\n",
    "$$\n",
    "SE(\\hat{C_{0}}) = \\frac{SD(C_{0,j})}{\\sqrt{M}}\n",
    "$$\n",
    "\n",
    "where $SD(C_{0,j})$ is the sample standard deviation, and is given as follows:\n",
    "\n",
    "$$\n",
    "SD(C_{0.j}) = \\sqrt{\\frac{1}{M-1} \\sum\\limits_{j=1}^{M} (C_{0,j} - \\hat{C_{0}})^{2}}\n",
    "$$\n",
    "\n",
    "where $C_{0,j} = \\exp{(-(r - \\delta) T)} C_{T,j}$ is just the present value of the option payoff for simulated spot price $j$.\n",
    "\n",
    "Report both $\\hat{C_{0}}$ and $SE(\\hat{C_{0}})$."
   ]
  },
  {
   "cell_type": "code",
   "execution_count": null,
   "metadata": {
    "collapsed": true
   },
   "outputs": [],
   "source": [
    "def NaiveMonteCarloPricer(option, spot, rate, vol, div, nreps):\n",
    "    ## insert your code here\n",
    "    \n",
    "    return price"
   ]
  },
  {
   "cell_type": "markdown",
   "metadata": {},
   "source": [
    "**Problem 4.**\n",
    "\n",
    "In this problem you will write object-oriented code to simulate the ***Deck of Cards Workout*** from Ross Enamait's book *Never Gymless*. \n",
    "\n",
    "The details are as given as follows from Enamait's book:\n",
    "\n",
    "This workout requires a standard deck of 52 playing cards. Each red card (diamonds and hearts) will require a set of burpees. Each black card (spades and clubs) will require a set of pushups. \n",
    "\n",
    "To perform the workout, start with a fully shuffled deck of cards. All face cards (Jacks, Queen, and King) have a value of 10. Aces have a value of 11. Number cards will be face value (ex. 7 of spades = 7 pushups). Do not use Joker cards for this problem.\n",
    "\n",
    "Each card requires a set of pushups or burpees, depending on the color of the card. Strive to work through the entire deck as fast as possible. If burpees become too difficult, switch to squat thrusts. \n",
    "\n",
    "**Deck of Cards**\n",
    "\n",
    "- Burpees for every red card\n",
    "- Pushups for every black card\n",
    "\n",
    "You will need to create classes with the appropriate data members and methods to simulate this process. You will need classes for the deck of cards, for the different suites of cards (diamonds, hearts, spades, clubs). You will need methods for drawing from the deck without replacement (*hint:* represent the deck as a list of cards, and use a pseudo-random number to sample randomly and the *pop* method to pull it from the list). You will also want a method that can randomly shuffle the deck, etc. Think carefully about this and plan it out before you begin to write any code. "
   ]
  },
  {
   "cell_type": "code",
   "execution_count": null,
   "metadata": {
    "collapsed": true
   },
   "outputs": [],
   "source": []
  }
 ],
 "metadata": {
  "kernelspec": {
   "display_name": "Python [default]",
   "language": "python",
   "name": "python3"
  },
  "language_info": {
   "codemirror_mode": {
    "name": "ipython",
    "version": 3
   },
   "file_extension": ".py",
   "mimetype": "text/x-python",
   "name": "python",
   "nbconvert_exporter": "python",
   "pygments_lexer": "ipython3",
   "version": "3.5.2"
  }
 },
 "nbformat": 4,
 "nbformat_minor": 1
}
