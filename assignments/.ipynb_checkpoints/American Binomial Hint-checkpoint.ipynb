{
 "cells": [
  {
   "cell_type": "markdown",
   "metadata": {},
   "source": [
    "** American Binomial Hint ** <br>\n",
    "\n",
    "The sample code below should get your juices flowing about how to model the binomial tree for an American option. The tricky bit is specifying the loops and carefully indexing the indirection necessary to carry out the recursive solution.\n",
    "\n",
    "The example below comes from page 310 in the McDonald book. See Figure 10.6 for a three-period tree. Although the solution in the figure is for a European put, we can use it below to see how to work with an American option with the same parameters. \n",
    "\n",
    "Please look at this and we can talk some more in class."
   ]
  },
  {
   "cell_type": "code",
   "execution_count": 2,
   "metadata": {
    "collapsed": false
   },
   "outputs": [
    {
     "name": "stdout",
     "output_type": "stream",
     "text": [
      "[[ 41.          50.07109093  61.14912553  74.6781323 ]\n",
      " [  0.          35.4113947   43.24602839  52.81404438]\n",
      " [  0.           0.          30.58455792  37.3512727 ]\n",
      " [  0.           0.           0.          26.41565494]]\n"
     ]
    }
   ],
   "source": [
    "import numpy as np\n",
    "\n",
    "spot = 41.0\n",
    "strike = 40.0\n",
    "rate = 0.08\n",
    "div = 0.0\n",
    "vol = 0.30\n",
    "expiry = 1.0\n",
    "steps = 3\n",
    "nodes = steps + 1\n",
    "dt = expiry / steps\n",
    "St = np.zeros((nodes, nodes))\n",
    "\n",
    "u = np.exp((rate - div) * dt + vol * np.sqrt(dt))\n",
    "d = np.exp((rate - div) * dt - vol * np.sqrt(dt))\n",
    "pstar = (np.exp(rate - div) - d) / (u - d)\n",
    "\n",
    "for i in range(nodes):\n",
    "    St[i,steps] = spot * (u ** (steps - i)) * (d ** i)\n",
    "    \n",
    "for i in range(steps - 1, -1, -1):\n",
    "    for j in range(i+1):\n",
    "        St[j,i] = St[j,i+1] / u\n",
    "        \n",
    "print(St)"
   ]
  },
  {
   "cell_type": "markdown",
   "metadata": {},
   "source": [
    "While using a two-dimensional ndarray is not the most efficient data structure for this problem (and we will replace it later), you should at least see how this could work. You will need to do something similar for the option price tree and derive its values from the spot price tree above."
   ]
  },
  {
   "cell_type": "code",
   "execution_count": null,
   "metadata": {
    "collapsed": true
   },
   "outputs": [],
   "source": []
  }
 ],
 "metadata": {
  "kernelspec": {
   "display_name": "Python [default]",
   "language": "python",
   "name": "python3"
  },
  "language_info": {
   "codemirror_mode": {
    "name": "ipython",
    "version": 3
   },
   "file_extension": ".py",
   "mimetype": "text/x-python",
   "name": "python",
   "nbconvert_exporter": "python",
   "pygments_lexer": "ipython3",
   "version": "3.5.2"
  }
 },
 "nbformat": 4,
 "nbformat_minor": 1
}
